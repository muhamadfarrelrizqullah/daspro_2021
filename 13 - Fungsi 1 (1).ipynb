{
 "cells": [
  {
   "cell_type": "markdown",
   "metadata": {},
   "source": [
    "# JOBSHEET 13. Fungsi 1"
   ]
  },
  {
   "cell_type": "markdown",
   "metadata": {},
   "source": [
    "## Tujuan\n",
    "* Mahasiswa mampu memahami penggunaan fungsi static pada Java dengan parameter dan mengembalikan nilai.\n",
    "* Mahasiswa mampu membuat program menggunakan fungsi static dan mengeksekusi fungsi tersebut.\n"
   ]
  },
  {
   "cell_type": "markdown",
   "metadata": {},
   "source": [
    "## Alat dan Bahan\n",
    "* PC/Laptop\n",
    "* Browser\n",
    "* Koneksi internet\n",
    "* Anaconda3 + Java kernel (opsional)"
   ]
  },
  {
   "cell_type": "markdown",
   "metadata": {},
   "source": [
    "## Praktikum"
   ]
  },
  {
   "cell_type": "markdown",
   "metadata": {},
   "source": [
    "### Percobaan 1: Fungsi Void (tidak menggunakan return value)\n",
    "\n",
    "1.\tBuat fungsi **beriSalam** bertipe void yang digunakan untuk mencetak **“Halo! Selamat Pagi”**.\n",
    "![Gambar 1](images/1.1.png)"
   ]
  },
  {
   "cell_type": "markdown",
   "metadata": {},
   "source": [
    "2. Eksekusi atau panggil fungsi **beriSalam**.\n",
    "![Gambar 2](images/1.2.png)"
   ]
  },
  {
   "cell_type": "code",
   "execution_count": 21,
   "metadata": {},
   "outputs": [
    {
     "name": "stdout",
     "output_type": "stream",
     "text": [
      "Halo! Selamat Pagi\n"
     ]
    }
   ],
   "source": [
    "// Tuliskan kode program Percobaan 1 Langkah 1 & 2\n",
    "static void beriSalam(){\n",
    "    System.out.println(\"Halo! Selamat Pagi\");\n",
    "}\n",
    "beriSalam();"
   ]
  },
  {
   "cell_type": "markdown",
   "metadata": {},
   "source": [
    "3. Buat fungsi **beriUcapan** dengan sebuah parameter bertipe String.\n",
    "![Gambar 3](images/1.3.png)"
   ]
  },
  {
   "cell_type": "markdown",
   "metadata": {},
   "source": [
    "4. Buatlah variabel **salam** bertipe String kemudian eksekusi atau panggil fungsi **beriUcapan** dengan mengisi parameternya dengan variable **salam** yang sudah dibuat.\n",
    "![Gambar 3](images/1.4.png)"
   ]
  },
  {
   "cell_type": "code",
   "execution_count": 22,
   "metadata": {},
   "outputs": [
    {
     "name": "stdout",
     "output_type": "stream",
     "text": [
      "Halo! Selamat Pagi\n",
      "Selamat datang di Pemrograman Java\n"
     ]
    }
   ],
   "source": [
    "// Tuliskan kode program Percobaan 1 Langkah 1, 2, 3 & 4\n",
    "static void beriSalam(){\n",
    "    System.out.println(\"Halo! Selamat Pagi\");\n",
    "}\n",
    "beriSalam();\n",
    "\n",
    "static void beriucapan(String ucapan){\n",
    "    System.out.println(ucapan);\n",
    "}\n",
    "\n",
    "String salam = \"Selamat datang di Pemrograman Java\";\n",
    "beriucapan(salam);"
   ]
  },
  {
   "cell_type": "markdown",
   "metadata": {},
   "source": [
    "#### Pertanyaan\n",
    "1. Jelaskan perbedaan fungsi **beriSalam** dan **beriUcapan** pada praktikum 1!"
   ]
  },
  {
   "cell_type": "markdown",
   "metadata": {},
   "source": [
    "2. Jelaskan cara pemanggilan sebuah fungsi void yang berparameter dan tanpa parameter!"
   ]
  },
  {
   "cell_type": "code",
   "execution_count": null,
   "metadata": {},
   "outputs": [],
   "source": [
    "// Tuliskan jawaban nomor 2\n",
    "1. Fungsi beriSalam tidak menggunakan parameter, sedangkan fungsi BeriUcapan menggunakan parameter bertipe data String.\n",
    "2. Cara memanggil sebuah fungsi void yang berparameter dengan cara memanggil fungsi tersebut kemudian mengisi dengan variabel \n",
    "yang sudah dibuat tadi (usahakan didalam variabel sudah terdapat isi sebelum proses eksekusi) , sedangkan jika tanpa parameter \n",
    "dengan cara langsung memanggil fungsi tersebut."
   ]
  },
  {
   "cell_type": "markdown",
   "metadata": {},
   "source": [
    "### Percobaan 2: Fungsi dengan return value (Bukan void)\n",
    "Pada Percobaan 2, kode program yang dibuat digunakan untuk menghitung luas persegi dengan membuat fungsi **luasPersegi** yang menggunakan parameter.\n",
    "1. Buat fungsi **luasPersegi**  untuk menghitung luas persegi yang mengembalikan nilai luas (int) dan parameter masukan sisi (int).\n",
    "![Gambar 4](images/2.1.png)"
   ]
  },
  {
   "cell_type": "markdown",
   "metadata": {},
   "source": [
    "2.\tEksekusi atau panggil fungsi luasPersegi dengan cara membuat variabel baru yaitu **luasan**, kemudian isi variabel tersebut dengan memanggil fungsi luasPersegi dan mengisi parameter sisi. Selanjutnya cetak variabel luasan untuk menampilkan luas persegi panjang\n",
    "![Gambar 5](images/2.2.png)"
   ]
  },
  {
   "cell_type": "code",
   "execution_count": 23,
   "metadata": {},
   "outputs": [
    {
     "name": "stdout",
     "output_type": "stream",
     "text": [
      "Luas Persegi dengan sisi 5 = 25\n"
     ]
    }
   ],
   "source": [
    "// Tuliskan kode program Percobaan 2 Langkah 1 & 2\n",
    "static int luasPersegi(int sisi){\n",
    "    int luas = sisi * sisi;\n",
    "    return luas;\n",
    "}\n",
    "\n",
    "int luasan = luasPersegi(5);\n",
    "System.out.println(\"Luas Persegi dengan sisi 5 = \" + luasan);"
   ]
  },
  {
   "cell_type": "markdown",
   "metadata": {},
   "source": [
    "#### Pertanyaan\n",
    "1. jelaskan mengapa ketika memanggil fungsi **luasPersegi** harus membuat variabel baru yaitu luasan?"
   ]
  },
  {
   "cell_type": "markdown",
   "metadata": {},
   "source": [
    "2. Jelaskan kegunaan **return luas** pada percobaan 2 diatas!"
   ]
  },
  {
   "cell_type": "markdown",
   "metadata": {},
   "source": [
    "3. Modifikasilah program di percobaan 2, dengan membuat panjang **sisi** sebagai inputan!"
   ]
  },
  {
   "cell_type": "code",
   "execution_count": null,
   "metadata": {},
   "outputs": [],
   "source": [
    "// Tuliskan jawaban nomor 1 dan 2\n",
    "1. Karena variabel luasan digunakan untuk mengeksekusi sedangkan variabel luas digunakan untuk proses.\n",
    "2. Agar fungsi luas dapat mengembalikan nilai."
   ]
  },
  {
   "cell_type": "code",
   "execution_count": 24,
   "metadata": {},
   "outputs": [
    {
     "name": "stdout",
     "output_type": "stream",
     "text": [
      "Masukan Sisi = 7\n",
      "Luas Persegi dengan sisi 7 = 49\n"
     ]
    }
   ],
   "source": [
    "import java.util.Scanner;\n",
    "static int luasPersegi(int sisi){\n",
    "    int luas = sisi * sisi;\n",
    "    return luas;\n",
    "}\n",
    "\n",
    "int sisis;\n",
    "Scanner input=new Scanner(System.in);\n",
    "\n",
    "System.out.print(\"Masukan Sisi = \");\n",
    "sisis = input.nextInt();\n",
    "\n",
    "int luasan = luasPersegi(sisis);\n",
    "System.out.println(\"Luas Persegi dengan sisi \"+sisis+\" = \" + luasan);"
   ]
  },
  {
   "cell_type": "markdown",
   "metadata": {},
   "source": [
    "### Percobaan 3: Fungsi dapat meng-CALL Fungsi Lain\n",
    "Pada Percobaan 3, kode program yang dibuat digunakan untuk mengimplementasikan bahwa fungsi dapat meng-CALL fungsi yang lain. Dimana dalam percobaan ini terdapat fungsi **Kali dan Kurang**. \n",
    "1. Buatlah fungsi **Kali** yang mengembalikan nilai H (int) dan parameter masukan C dan D (int).\n",
    "![Gambar 9](images/3.1.png)"
   ]
  },
  {
   "cell_type": "markdown",
   "metadata": {},
   "source": [
    "2.\tBuatlah fungsi **Kurang** yang mengembalikan nilai X (int) dan parameter masukan A dan B (int) dan memanggil fungsi Kali.\n",
    "![Gambar 10](images/3.2.png)"
   ]
  },
  {
   "cell_type": "markdown",
   "metadata": {},
   "source": [
    "3. Lakukan import class Scanner sebagai inputan di langkah selajutnya."
   ]
  },
  {
   "cell_type": "markdown",
   "metadata": {},
   "source": [
    "4. Eksekusi atau panggil fungsi **Kurang** .\n",
    "![Gambar 11](images/3.4.png)"
   ]
  },
  {
   "cell_type": "code",
   "execution_count": 25,
   "metadata": {},
   "outputs": [
    {
     "name": "stdout",
     "output_type": "stream",
     "text": [
      "Masukkan Nilai 1:\n",
      "2\n",
      "Masukkan Nilai 2:\n",
      "3\n",
      "Hasil akhir adalah 19\n"
     ]
    }
   ],
   "source": [
    "// Tuliskan kode program Percobaan 3 Langkah 1, 2, 3 & 4\n",
    "static int Kali(int C, int D){\n",
    "    int H;\n",
    "    H = (C+10) % (D+19);\n",
    "    return H;\n",
    "}\n",
    "\n",
    "static int Kurang(int A, int B){\n",
    "    int X;\n",
    "    A = A + 7;\n",
    "    B = B + 4;\n",
    "    X = Kali(A,B);\n",
    "    return X;\n",
    "}\n",
    "\n",
    "int nilai1, nilai2;\n",
    "Scanner input =new Scanner (System.in);\n",
    "System.out.println(\"Masukkan Nilai 1:\");\n",
    "nilai1=input.nextInt();\n",
    "System.out.println(\"Masukkan Nilai 2:\");\n",
    "nilai2=input.nextInt();\n",
    "int hasil = Kurang(nilai1, nilai2);\n",
    "System.out.println(\"Hasil akhir adalah \" + hasil);"
   ]
  },
  {
   "cell_type": "markdown",
   "metadata": {},
   "source": [
    "#### Pertanyaan\n",
    "1. Modifikasilah percobaan diatas dimana di fungsi **Kali** dapat memanggil fungsi **Kurang** kemudian eksekusi atau panggil fungsi Kali"
   ]
  },
  {
   "cell_type": "code",
   "execution_count": 38,
   "metadata": {},
   "outputs": [
    {
     "name": "stdout",
     "output_type": "stream",
     "text": [
      "Masukkan Nilai 1:\n",
      "2\n",
      "Masukkan Nilai 2:\n",
      "3\n",
      "Hasil akhir adalah 19\n"
     ]
    }
   ],
   "source": [
    "// Tuliskan jawaban nomor 1\n",
    "static int Kali(int C, int D){\n",
    "    int H;\n",
    "    C = C + 10;\n",
    "    D = D + 19;\n",
    "    H = Kurang(C,D);\n",
    "    return H;\n",
    "}\n",
    "\n",
    "static int Kurang(int A, int B){\n",
    "    int X;\n",
    "    X = (A+7) % (B+4);\n",
    "    return X;\n",
    "}\n",
    "\n",
    "int nilai1, nilai2;\n",
    "Scanner input =new Scanner (System.in);\n",
    "System.out.println(\"Masukkan Nilai 1:\");\n",
    "nilai1=input.nextInt();\n",
    "System.out.println(\"Masukkan Nilai 2:\");\n",
    "nilai2=input.nextInt();\n",
    "int hasil = Kali(nilai1, nilai2);\n",
    "System.out.println(\"Hasil akhir adalah \" + hasil);"
   ]
  },
  {
   "cell_type": "markdown",
   "metadata": {},
   "source": [
    "2. Jelaskan alur jalannya program di percobaan 3 mulai dari input sampai keluar output!"
   ]
  },
  {
   "cell_type": "code",
   "execution_count": null,
   "metadata": {},
   "outputs": [],
   "source": [
    "// Tuliskan jawaban nomor 2\n",
    "Input nilai 1 dan 2 kemudian memanggil fungsi kurang dengan parameter A dan B dan mengembalikan nilai X. \n",
    "Kemudian fungsi kali dengan parameter C dan D adalah parameter A dan B yang sudah diproses dan mengembalikan nilai H. \n",
    "Kemudian menampilkan variabel hasil."
   ]
  },
  {
   "cell_type": "markdown",
   "metadata": {},
   "source": [
    "### Percobaan 4: Mengubah Program Tidak Menggunakan Fungsi dan Menggunakan Fungsi\n",
    "Pada Percobaan 4, kode program yang dibuat digunakan untuk menghitung luas persegi panjang dan volume balok tanpa menggunakan fungsi dan dengan menggunakan fungsi.\n",
    "1. Import dan deklarasikan Scanner dengan nama **input**\n",
    "![Gambar 9](images/4.1.png)"
   ]
  },
  {
   "cell_type": "markdown",
   "metadata": {},
   "source": [
    "2. Buatlah inputan panjang, lebar, dan tinggi \n",
    "![Gambar 10](images/4.2.png)"
   ]
  },
  {
   "cell_type": "markdown",
   "metadata": {},
   "source": [
    "3. Hitung luas persegi panjang dan volume balok\n",
    "![Gambar 10](images/4.3.png)"
   ]
  },
  {
   "cell_type": "code",
   "execution_count": 26,
   "metadata": {},
   "outputs": [
    {
     "name": "stdout",
     "output_type": "stream",
     "text": [
      "Masukkan panjang\n",
      "2\n",
      "Masukkan lebar\n",
      "4\n",
      "Masukkan tinggi\n",
      "6\n",
      "Luas Persegi Panjang adalah 8\n",
      "Volume balok adalah 48\n"
     ]
    }
   ],
   "source": [
    "// Tuliskan kode program Percobaan 4 Langkah 1, 2, & 3\n",
    "import java.util.Scanner;\n",
    "Scanner input = new Scanner(System.in);\n",
    "\n",
    "int p, l, t, L, vol;\n",
    "\n",
    "System.out.println(\"Masukkan panjang\");\n",
    "p=input.nextInt();\n",
    "System.out.println(\"Masukkan lebar\");\n",
    "l=input.nextInt();\n",
    "System.out.println(\"Masukkan tinggi\");\n",
    "t=input.nextInt();\n",
    "\n",
    "L = p * l;\n",
    "System.out.println(\"Luas Persegi Panjang adalah \" + L);\n",
    "\n",
    "vol = p * l * t;\n",
    "System.out.println(\"Volume balok adalah \" + vol);"
   ]
  },
  {
   "cell_type": "markdown",
   "metadata": {},
   "source": [
    "4. Program menghitung luas persegi dan volume balok diatas jika dibuatkan fungsi maka terdapat 3 fungsi yaitu hitungLuas, hitungVolume dan fungsi main, seperti dibawah ini:\n",
    "\n",
    "Fungsi hitungLuas\n",
    "\n",
    "![Gambar 10](images/4.4Luas.png)\n",
    "\n",
    "Fungsi hitungVolume\n",
    "![Gambar 10](images/4.4Volume.png)\n",
    "\n"
   ]
  },
  {
   "cell_type": "markdown",
   "metadata": {},
   "source": [
    "5. Eksekusi/panggil fungsi **hitungLuas** dan **hitungVolume**\n",
    "\n",
    "![Gambar 10](images/4.5.png)"
   ]
  },
  {
   "cell_type": "code",
   "execution_count": 27,
   "metadata": {},
   "outputs": [
    {
     "name": "stdout",
     "output_type": "stream",
     "text": [
      "Masukkan panjang\n",
      "2\n",
      "Masukkan lebar\n",
      "4\n",
      "Masukkan tinggi\n",
      "6\n",
      "Luas Persegi Panjang adalah 8\n",
      "Volume Balok adalah 48\n"
     ]
    }
   ],
   "source": [
    "// Tuliskan kode program Percobaan 4 Langkah 1, 2, & 3\n",
    "import java.util.Scanner;\n",
    "static int hitungLuas (int pjg, int lb){\n",
    "    int Luas = pjg * lb;\n",
    "    return Luas;\n",
    "}\n",
    "\n",
    "static int hitungVolume (int tinggi, int a, int b){\n",
    "    int volume = hitungLuas(a,b) * tinggi;\n",
    "    return volume;\n",
    "}\n",
    "\n",
    "Scanner input = new Scanner(System.in);\n",
    "\n",
    "int p, l, t, L, vol;\n",
    "\n",
    "System.out.println(\"Masukkan panjang\");\n",
    "p=input.nextInt();\n",
    "System.out.println(\"Masukkan lebar\");\n",
    "l=input.nextInt();\n",
    "System.out.println(\"Masukkan tinggi\");\n",
    "t=input.nextInt();\n",
    "\n",
    "L = hitungLuas(p,l);\n",
    "System.out.println(\"Luas Persegi Panjang adalah \" + L);\n",
    "\n",
    "vol = hitungVolume(t,p,l);\n",
    "System.out.println(\"Volume Balok adalah \" + vol);"
   ]
  },
  {
   "cell_type": "markdown",
   "metadata": {},
   "source": [
    "#### Pertanyaan\n",
    "1. Jelaskan kegunaan parameter yang terdapat didalam fungsi hitungLuas dan hitungVolume!"
   ]
  },
  {
   "cell_type": "markdown",
   "metadata": {},
   "source": [
    "2. Setelah melakukan percobaan 4, menurut anda manakah program yg lebih efisien apakah menggunakan fungsi atau tanpa fungsi? Jelaskan!"
   ]
  },
  {
   "cell_type": "code",
   "execution_count": null,
   "metadata": {},
   "outputs": [],
   "source": [
    "// Tuliskan jawaban nomor 1 dan 2\n",
    "1. Untuk memanggil nilai yang telah diinputkan pada variabel p, l, dan t.\n",
    "2. Dengan fungsi lebih efisien karena fungsi dapat memecah program menjadi sub-sub program, sehingga dapat mengurangi \n",
    "pengetikan kode yang berulang-ulang."
   ]
  },
  {
   "cell_type": "markdown",
   "metadata": {},
   "source": [
    "### Percobaan 5: Fungsi Menggunakan Array dan Variabel Global\n",
    "Pada Percobaan 5, kode program yang dibuat digunakan untuk menghitung total nilai yang ada didalam array dengan membuat 3 fungsi yaitu isiarray, hitTol, dan tampilArray.\n",
    "1. Buatlah **variable global total dan i** bertipe int\n",
    "![Gambar 9](images/5.1pertama.png)"
   ]
  },
  {
   "cell_type": "markdown",
   "metadata": {},
   "source": [
    "2. Buatlah fungsi **isiarray** bertipe int dengan parameter angka bertipe int \n",
    "\n",
    "![Gambar 10](images/5.1.png)"
   ]
  },
  {
   "cell_type": "markdown",
   "metadata": {},
   "source": [
    "3. Buatlah fungsi **tampilArray** bertipe **void** dengan parameter data array **arr** bertipe int\n",
    "\n",
    "![Gambar 10](images/5.2.png)"
   ]
  },
  {
   "cell_type": "markdown",
   "metadata": {},
   "source": [
    "4. Buatlah fungsi **hitTot** bertipe int dengan parameter data array **arr** bertipe int\n",
    "\n",
    "![Gambar 10](images/5.3.png)"
   ]
  },
  {
   "cell_type": "markdown",
   "metadata": {},
   "source": [
    "5. Import dan deklarasikan Scanner dengan nama **input**\n",
    "\n",
    "![Gambar 10](images/4.1.png)"
   ]
  },
  {
   "cell_type": "markdown",
   "metadata": {},
   "source": [
    "6. Eksekusi atau panggil ketiga fungsi yaitu **isiarray, tampilArray, dan hitTot**, kemudian jalankan program!\n",
    "\n",
    "![Gambar 10](images/5.6.png)"
   ]
  },
  {
   "cell_type": "code",
   "execution_count": 28,
   "metadata": {},
   "outputs": [
    {
     "name": "stdout",
     "output_type": "stream",
     "text": [
      "Masukkan jumlah data yang ingin anda inputkan: \n",
      "4\n",
      "Masukan data ke- 0\n",
      "4\n",
      "Masukan data ke- 1\n",
      "3\n",
      "Masukan data ke- 2\n",
      "6\n",
      "Masukan data ke- 3\n",
      "6\n",
      "Nilai yang anda inputkan ke- 0\n",
      "4\n",
      "Nilai yang anda inputkan ke- 1\n",
      "3\n",
      "Nilai yang anda inputkan ke- 2\n",
      "6\n",
      "Nilai yang anda inputkan ke- 3\n",
      "6\n",
      "Total nilai = 19\n"
     ]
    }
   ],
   "source": [
    "// Tuliskan kode program Percobaan 4 Langkah 1 s/d 6\n",
    "static int total = 0, i;\n",
    "\n",
    "static int [] isiarray (int angka){\n",
    "    Scanner input = new Scanner(System.in);\n",
    "    int array[]=new int [angka];\n",
    "    for(i=0; i<array.length; i++) {\n",
    "        System.out.println(\"Masukan data ke- \" +i);\n",
    "        array[i]=input.nextInt();\n",
    "    }\n",
    "    return array;\n",
    "}\n",
    "static void tampilArray(int [] arr){\n",
    "    for (i=0; i<arr.length; i++){\n",
    "        System.out.println(\"Nilai yang anda inputkan ke- \"+i);\n",
    "        System.out.println(arr[i]);\n",
    "    }\n",
    "}\n",
    "\n",
    "static int hitTot(int []arr){\n",
    "    for (i=0; i<arr.length; i++){\n",
    "        total+=arr[i];\n",
    "    }\n",
    "    return total;\n",
    "}\n",
    "import java.util.Scanner;\n",
    "Scanner input = new Scanner(System.in);\n",
    "\n",
    "System.out.println(\"Masukkan jumlah data yang ingin anda inputkan: \");\n",
    "int jum=input.nextInt();\n",
    "int []dataArray=isiarray(jum);\n",
    "tampilArray(dataArray);\n",
    "total= hitTot(dataArray);\n",
    "System.out.println(\"Total nilai = \"+total);"
   ]
  },
  {
   "cell_type": "markdown",
   "metadata": {},
   "source": [
    "#### Pertanyaan\n",
    "1. Jelaskan mengapa fungsi tampil array dibuat bertipe void, sedangkan isiarray dan hitTot bertipe int!"
   ]
  },
  {
   "cell_type": "markdown",
   "metadata": {},
   "source": [
    "2. Menurut pendapat anda apakah fugsi isiarray dan hitTot dapat diganti dengan tipe void? Jelaskan dan buktikan dengan program!"
   ]
  },
  {
   "cell_type": "code",
   "execution_count": null,
   "metadata": {},
   "outputs": [],
   "source": [
    "// Tuliskan jawaban nomor 1 dan 2\n",
    "1. Tipedata void artinya kosong, fungsi tersebut tidak mengebalikan nilai apa-apa.\n",
    "2. Tidak dapat diganti, karena fungsi isiarray dan hitTot terdapat kata kunci return untuk mengembalikan nilai."
   ]
  },
  {
   "cell_type": "code",
   "execution_count": 29,
   "metadata": {},
   "outputs": [
    {
     "ename": "CompilationException",
     "evalue": "",
     "output_type": "error",
     "traceback": [
      "\u001b[1m\u001b[30m|   \u001b[1m\u001b[30mstatic \u001b[0m\u001b[1m\u001b[30m\u001b[41mvoid\u001b[0m\u001b[1m\u001b[30m int [] isiarray (int angka){\u001b[0m",
      "\u001b[1m\u001b[31millegal start of expression\u001b[0m",
      "",
      "\u001b[1m\u001b[30m|   \u001b[1m\u001b[30mstatic void\u001b[0m\u001b[1m\u001b[30m\u001b[41m\u001b[0m\u001b[1m\u001b[30m int [] isiarray (int angka){\u001b[0m",
      "\u001b[1m\u001b[31m';' expected\u001b[0m",
      "",
      "\u001b[1m\u001b[30m|   \u001b[1m\u001b[30mstatic void int [] isiarray\u001b[0m\u001b[1m\u001b[30m\u001b[41m\u001b[0m\u001b[1m\u001b[30m (int angka){\u001b[0m",
      "\u001b[1m\u001b[31m';' expected\u001b[0m",
      "",
      "\u001b[1m\u001b[30m|   \u001b[1m\u001b[30mstatic void int [] isiarray (int angka\u001b[0m\u001b[1m\u001b[30m\u001b[41m\u001b[0m\u001b[1m\u001b[30m){\u001b[0m",
      "\u001b[1m\u001b[31m';' expected\u001b[0m",
      "",
      "\u001b[1m\u001b[30m|   \u001b[1m\u001b[30m    int array[]=new int [\u001b[0m\u001b[1m\u001b[30m\u001b[41mangka\u001b[0m\u001b[1m\u001b[30m];\u001b[0m",
      "\u001b[1m\u001b[31mvariable angka might not have been initialized\u001b[0m",
      ""
     ]
    }
   ],
   "source": [
    "static int total = 0, i;\n",
    "\n",
    "static void int [] isiarray (int angka){\n",
    "    Scanner input = new Scanner(System.in);\n",
    "    int array[]=new int [angka];\n",
    "    for(i=0; i<array.length; i++) {\n",
    "        System.out.println(\"Masukan data ke- \" +i);\n",
    "        array[i]=input.nextInt();\n",
    "    }\n",
    "    return array;\n",
    "}\n",
    "static void tampilArray(int [] arr){\n",
    "    for (i=0; i<arr.length; i++){\n",
    "        System.out.println(\"Nilai yang anda inputkan ke- \"+i);\n",
    "        System.out.println(arr[i]);\n",
    "    }\n",
    "}\n",
    "\n",
    "static void int hitTot(int []arr){\n",
    "    for (i=0; i<arr.length; i++){\n",
    "        total+=arr[i];\n",
    "    }\n",
    "    return total;\n",
    "}\n",
    "import java.util.Scanner;\n",
    "Scanner input = new Scanner(System.in);\n",
    "\n",
    "System.out.println(\"Masukkan jumlah data yang ingin anda inputkan: \");\n",
    "int jum=input.nextInt();\n",
    "int []dataArray=isiarray(jum);\n",
    "tampilArray(dataArray);\n",
    "total= hitTot(dataArray);\n",
    "System.out.println(\"Total nilai = \"+total);"
   ]
  },
  {
   "cell_type": "markdown",
   "metadata": {},
   "source": [
    "## Tugas"
   ]
  },
  {
   "cell_type": "markdown",
   "metadata": {},
   "source": [
    "1. Buatlah sebuah static method yang bernama Max3(int bil1, int bil2, int bil3) yang menerima 3 buah parameter bilangan integer dan mengembalikan sebuah bilangan integer yang merupakan nilai maksimum diantara ketiga bilangan tersebut. "
   ]
  },
  {
   "cell_type": "code",
   "execution_count": 30,
   "metadata": {},
   "outputs": [
    {
     "name": "stdout",
     "output_type": "stream",
     "text": [
      "Masukkan bilangan ke-1 = \n",
      "48\n",
      "Masukkan bilangan ke-2 = \n",
      "76\n",
      "Masukkan bilangan ke-3 = \n",
      "56\n",
      "Nilai maximum adalah 76\n"
     ]
    }
   ],
   "source": [
    "// Tuliskan jawaban nomor 1\n",
    "import java.util.Scanner;\n",
    "static int max3(int bil1, int bil2, int bil3){\n",
    "      if (bil1 > max1){\n",
    "         max1 = bil1;  \n",
    "      }if (bil2 > max1){\n",
    "          max1 = bil2;\n",
    "      }if (bil3 > max1){\n",
    "          max1 = bil3;\n",
    "      }\n",
    "      return max1;\n",
    "  }\n",
    "\n",
    "Scanner input = new Scanner(System.in);\n",
    "\n",
    "int b1, b2, b3, max1;\n",
    "\n",
    "System.out.println(\"Masukkan bilangan ke-1 = \");\n",
    "int b1 = input.nextInt();\n",
    "System.out.println(\"Masukkan bilangan ke-2 = \");\n",
    "int b2 = input.nextInt();\n",
    "System.out.println(\"Masukkan bilangan ke-3 = \");\n",
    "int b3 = input.nextInt();\n",
    "\n",
    "int max2 = max3(b1, b2, b3);\n",
    "System.out.println(\"Nilai maximum adalah \" + max2);"
   ]
  },
  {
   "cell_type": "markdown",
   "metadata": {},
   "source": [
    "2. Disebuah restoran terdapat 3 menu yang dijual yaitu nasi goreng, soto, dan sate. Harga nasi goreng Rp. 20.000, soto Rp. 15.000, dan sate Rp. 25.000. Restoran tersebut buka dari hari senin sampai jumat. Berikut ini merupakan tabel pejualan perhari untuk masing-masing menu di restoran tersebut dari hari senin sampai jumat\n",
    "![Gambar 13](images/soal3.png)\n",
    "\n",
    "Buatlah Fungsi sebagai berikut:\n",
    " * Fungsi menampilkan menu favorit di hari selasa dan jumat (menu favorit diasumsikan adalah menu yang paling banyak terjual di hari tersebut)\n",
    " * Fungsi untuk menghitung pemasukan restoran tersebut mulai hari senin sampai jumat.\n",
    " * Fungsi untuk menghitung berapa porsi yang terjual untuk masing-masing menu yaitu nasi goreng, soto, dan sate mulai senin sampai jumat."
   ]
  },
  {
   "cell_type": "code",
   "execution_count": 20,
   "metadata": {},
   "outputs": [
    {
     "name": "stdout",
     "output_type": "stream",
     "text": [
      "soto\n",
      "pada hari selasa porsi yang paling banyak terjual adalah : 40 porsi\n",
      "Nasi goreng\n",
      "pada hari jum'at porsi yang paling banyak terjual adalah : 70 porsi\n",
      "Total pemasukan mulai hari senin sampai jumat adalah : 965679696\n",
      "Porsi yang terjual untuk menu : \n",
      "Jumlah Penjualan Nasi goreng : 164\n",
      "Jumlah Penjualan Soto : 143\n",
      "Jumlah Penjualan Sate : 128\n"
     ]
    }
   ],
   "source": [
    "// Tuliskan jawaban nomor 2\n",
    "static String[] menu = {\"Nasi goreng\",\"soto\",\"sate\"};\n",
    "static int[][] arr = {\n",
    " {0,20,15,35,24,70},\n",
    " {0,30,40,10,28,35},\n",
    " {0,5,10,50,48,15}\n",
    "};\n",
    "static int isi(int selasa[][]){\n",
    "     int max = 0, h = 0;\n",
    "     for(int b = 0 ; b < selasa.length;b++){\n",
    "         for(int k = 0 ; k < selasa[0].length;k++){\n",
    "              if(k==2){\n",
    "                if(selasa[b][k]>max){\n",
    "                    max = selasa[b][k];\n",
    "                    h = b;\n",
    "                }\n",
    "              }\n",
    "         }\n",
    "     } \n",
    "    System.out.println(menu[h]);\n",
    " return max; \n",
    "}\n",
    "\n",
    "static int isi1(int jumat[][]){\n",
    "    int max = 0, h = 0;;\n",
    "    for(int b = 0; b < jumat.length; b++){\n",
    "        for(int k = 0; k < jumat[0].length; k++){\n",
    "            if (k == 5){\n",
    "                if(jumat[b][k] > max){\n",
    "                    max = jumat[b][k];\n",
    "                    h = b;\n",
    "                }\n",
    "            }\n",
    "        }\n",
    "    }\n",
    "    System.out.println(menu[h]);\n",
    "  return max;\n",
    "}\n",
    "\n",
    "static int pemasukan(int masuk[][]){\n",
    "    int total1 = 0;\n",
    "    int total2 = 0;\n",
    "    int total3 = 0;\n",
    "    int totalFinal = 0;\n",
    "    for(int i = 0; i < masuk.length; i++) {\n",
    "        for(int j = 0; j < masuk[0].length; j++){\n",
    "            if (j == 0){\n",
    "                total1 += masuk[i][j+1];\n",
    "                total1 *= 20000;\n",
    "            }\n",
    "            if (j == 1){\n",
    "                total2 += masuk[i][j+1];\n",
    "                total2 *= 15000;\n",
    "            }\n",
    "            if (j == 2){\n",
    "                total3 += masuk[i][j+1];\n",
    "                total3 *= 25000;\n",
    "            }\n",
    "            totalFinal += total1 + total2 +total3;\n",
    "        }\n",
    "    }\n",
    "    return totalFinal;\n",
    "}\n",
    "\n",
    "static int jual(int penjualan[][]){\n",
    "    int jumlah1 = 0;\n",
    "    int jumlah2 = 0;\n",
    "    int jumlah3 = 0;\n",
    "    int jumlahFinal = 0;\n",
    "    for (int o = 0; o < penjualan.length; o++) {\n",
    "        for (int p = 0; p < penjualan[0].length; p++) {\n",
    "            if (o == 0){\n",
    "                jumlah1 += penjualan[o][p];\n",
    "            }\n",
    "            if (o == 1){\n",
    "                jumlah2 += penjualan[o][p];\n",
    "            }\n",
    "            if (o == 2){\n",
    "                jumlah3 += penjualan[o][p];\n",
    "            }\n",
    "            \n",
    "        }\n",
    "        \n",
    "    }\n",
    "    if (jumlahFinal == 0)\n",
    "            System.out.println(\"Jumlah Penjualan Nasi goreng : \" + jumlah1);\n",
    "            System.out.println(\"Jumlah Penjualan Soto : \" + jumlah2);\n",
    "            System.out.println(\"Jumlah Penjualan Sate : \" + jumlah3);\n",
    "    return jumlahFinal;\n",
    "} \n",
    "\n",
    "\n",
    "\n",
    "int menuSelasa = isi(arr);\n",
    "System.out.println(\"pada hari selasa porsi yang paling banyak terjual adalah : \"+menuSelasa+\" porsi\");\n",
    "int menuJumat = isi1(arr);\n",
    "System.out.println(\"pada hari jum'at porsi yang paling banyak terjual adalah : \"+menuJumat+\" porsi\");\n",
    "\n",
    "int totalFinal = pemasukan(arr);\n",
    "System.out.println(\"Total pemasukan mulai hari senin sampai jumat adalah : \" + totalFinal);\n",
    "\n",
    "System.out.println(\"Porsi yang terjual untuk menu : \");\n",
    "int jumlahFinal = jual(arr);"
   ]
  }
 ],
 "metadata": {
  "kernelspec": {
   "display_name": "Java",
   "language": "java",
   "name": "java"
  },
  "language_info": {
   "codemirror_mode": "java",
   "file_extension": ".jshell",
   "mimetype": "text/x-java-source",
   "name": "Java",
   "pygments_lexer": "java",
   "version": "18-ea+24-1608"
  }
 },
 "nbformat": 4,
 "nbformat_minor": 4
}
