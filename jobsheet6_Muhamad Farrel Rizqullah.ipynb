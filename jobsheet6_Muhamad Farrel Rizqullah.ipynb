{
 "cells": [
  {
   "cell_type": "markdown",
   "metadata": {
    "collapsed": true
   },
   "source": [
    "## JOBSHEET 6\n",
    "\n",
    "## PEMILIHAN 2\n",
    "\n",
    "### Tujuan\n",
    "\n",
    "Mahasiswa memahami tentang operator logika; Mahasiswa mampu menyelesaikan permasalahan dengan menggunakan sintaks pemilihan bersarang; Mahasiswa mampu membuat sebuah program Java yang memanfaatkan sintaks pemilihan bersarang\n",
    "\n",
    "\n",
    "### Alat dan Bahan\n",
    "+ PC/laptop\n",
    "+ Browser(chrome, firefox, safari)\n",
    "+ Koneksi internet\n",
    "\n",
    "### Praktikum\n",
    "\n",
    "#### Percobaan 1\n",
    "\n",
    "#### Waktu percobaan : 40 menit\n",
    "\n",
    "1. Tambahkan library Scanner, deklarasi Scanner\n",
    "\n",
    "2. Buatlah variabel nilai yang memiliki tipe data int untuk menampung data yang diinput melalui keyboard\n",
    "\n",
    "    ![](images/03.png)"
   ]
  },
  {
   "cell_type": "code",
   "execution_count": 5,
   "metadata": {},
   "outputs": [
    {
     "name": "stdout",
     "output_type": "stream",
     "text": [
      "Masukkan nilai ujian (0-100): 89\n"
     ]
    }
   ],
   "source": [
    "// Ketik kode di sini\n",
    "import java.util.Scanner;\n",
    "Scanner input = new Scanner(System.in);\n",
    "int nilai;\n",
    "System.out.print(\"Masukkan nilai ujian (0-100): \");\n",
    "nilai = input.nextInt();"
   ]
  },
  {
   "cell_type": "markdown",
   "metadata": {},
   "source": [
    "3. Buatlah struktur pengecekan kondisi bersarang. Pengecekan pertama digunakan untuk memastikan bahwa nilai yang dimasukkan berada pada rentang 0 – 100. Jika nilai berada pada rentang 0 – 100, maka akan dilakukan pengecekan status kelulusan mahasiswa, yaitu jika nilai di antara 90 – 100 maka nilainya A, jika nilai di antara 80 – 89 maka nilainya B, jika nilai di antara 60 – 79 maka nilainya C, jika nilai di antara 50 – 59 maka nilainya D, dan jika nilai di antara 0 – 49 maka nilainya E. Sedangkan jika nilai berada di luar rentang 0 – 100, maka ditampilkan informasi bahwa nilai yang dimasukkan tidak valid.\n",
    "\n",
    "    ![](images/04.png)"
   ]
  },
  {
   "cell_type": "code",
   "execution_count": 6,
   "metadata": {},
   "outputs": [
    {
     "name": "stdout",
     "output_type": "stream",
     "text": [
      "Nilai B, Pertahankan prestasi Anda!\n"
     ]
    }
   ],
   "source": [
    "// Ketik kode di sini\n",
    "if(nilai >= 0 && nilai <= 100){\n",
    "    if (nilai >= 90  && nilai <= 100){\n",
    "        System.out.println(\"Nilai A, EXCELLENT!\");\n",
    "    } else if (nilai >= 80  && nilai <= 89){\n",
    "        System.out.println(\"Nilai B, Pertahankan prestasi Anda!\");\n",
    "    } else if (nilai >= 60  && nilai <= 79){\n",
    "        System.out.println(\"Nilai C, Tingkatkan prestasi Anda!\");\n",
    "    } else if (nilai >= 50  && nilai <= 59){\n",
    "        System.out.println(\"Nilai D, Tingkatkan belajar Anda!\");\n",
    "    } else {\n",
    "        System.out.println(\"Nilai E, Anda tidak lulus!\");\n",
    "    }    \n",
    "} else {\n",
    "    System.out.println(\"Nilai yang Anda masukkan tidak valid!\");\n",
    "}"
   ]
  },
  {
   "cell_type": "markdown",
   "metadata": {},
   "source": [
    "> Penjelasan kode program percobaan 1\n",
    "Fungsi if pertama untuk memberikan rentang nilai lebihdari samadengan 0 dan kurangdari samadengan 100, sedangkan fungsi if kedua memberikan rentang nilai ke beberapa bagian."
   ]
  },
  {
   "cell_type": "markdown",
   "metadata": {},
   "source": [
    "##### Pertanyaan\n",
    "\n",
    "1. Modifikasi kode program pada Percobaan 1 sehingga jika nilai yang dimasukkan kurang dari 0 akan ditampilkan output “Nilai yang Anda masukkan kurang dari 0” dan jika nilai yang dimasukkan lebih dari 100 akan ditampilkan output “Nilai yang Anda masukkan lebih dari 100”!\n",
    "\n",
    "2. Jelaskan fungsi sintaks if (nilai >= 0 && nilai <= 100)!\n",
    "\n",
    "3. Ubah operator && menjadi || pada sintaks if (nilai >= 0 && nilai <= 100). Jalankan program dengan memasukkan nilai = 105. Amati apa yang terjadi! Mengapa hasilnya demikian?"
   ]
  },
  {
   "cell_type": "code",
   "execution_count": 7,
   "metadata": {},
   "outputs": [
    {
     "name": "stdout",
     "output_type": "stream",
     "text": [
      "Masukkan nilai ujian (0-100): 108\n",
      "Nilai yang Anda masukkan lebih dari 100!\n"
     ]
    }
   ],
   "source": [
    "// Jawaban pertanyaan 1\n",
    "import java.util.Scanner;\n",
    "Scanner input = new Scanner(System.in);\n",
    "int nilai;\n",
    "System.out.print(\"Masukkan nilai ujian (0-100): \");\n",
    "nilai = input.nextInt();\n",
    "\n",
    "if(nilai >= 0 && nilai <= 100){\n",
    "    if (nilai >= 90  && nilai <= 100){\n",
    "        System.out.println(\"Nilai A, EXCELLENT!\");\n",
    "    } else if (nilai >= 80  && nilai <= 89){\n",
    "        System.out.println(\"Nilai B, Pertahankan prestasi Anda!\");\n",
    "    } else if (nilai >= 60  && nilai <= 79){\n",
    "        System.out.println(\"Nilai C, Tingkatkan prestasi Anda!\");\n",
    "    } else if (nilai >= 50  && nilai <= 59){\n",
    "        System.out.println(\"Nilai D, Tingkatkan belajar Anda!\");\n",
    "    } else {\n",
    "        System.out.println(\"Nilai E, Anda tidak lulus!\");\n",
    "    }    \n",
    "} else {\n",
    "    if (nilai > 100){\n",
    "        System.out.println(\"Nilai yang Anda masukkan lebih dari 100!\");\n",
    "    } else if (nilai < 0){\n",
    "        System.out.println(\"Nilai yang Anda masukkan kurang dari 0!\");\n",
    "    }\n",
    "        \n",
    "}"
   ]
  },
  {
   "cell_type": "code",
   "execution_count": null,
   "metadata": {},
   "outputs": [],
   "source": [
    "// Jawaban pertanyaan 2\n",
    "/*Jika nilai yang anda masukkan lebihdari sama dengan 0 dan kurangdari sama dengan 100 maka sistem akan melanjutkan ke proses\n",
    "selanjutnya.*/"
   ]
  },
  {
   "cell_type": "code",
   "execution_count": 8,
   "metadata": {},
   "outputs": [
    {
     "name": "stdout",
     "output_type": "stream",
     "text": [
      "Masukkan nilai ujian (0-100): 105\n",
      "Nilai E, Anda tidak lulus!\n"
     ]
    }
   ],
   "source": [
    "// Jawaban pertanyaan 3\n",
    "import java.util.Scanner;\n",
    "Scanner input = new Scanner(System.in);\n",
    "int nilai;\n",
    "System.out.print(\"Masukkan nilai ujian (0-100): \");\n",
    "nilai = input.nextInt();\n",
    "\n",
    "if(nilai >= 0 || nilai <= 100){\n",
    "    if (nilai >= 90  && nilai <= 100){\n",
    "        System.out.println(\"Nilai A, EXCELLENT!\");\n",
    "    } else if (nilai >= 80  && nilai <= 89){\n",
    "        System.out.println(\"Nilai B, Pertahankan prestasi Anda!\");\n",
    "    } else if (nilai >= 60  && nilai <= 79){\n",
    "        System.out.println(\"Nilai C, Tingkatkan prestasi Anda!\");\n",
    "    } else if (nilai >= 50  && nilai <= 59){\n",
    "        System.out.println(\"Nilai D, Tingkatkan belajar Anda!\");\n",
    "    } else {\n",
    "        System.out.println(\"Nilai E, Anda tidak lulus!\");\n",
    "    }    \n",
    "} else {\n",
    "    System.out.println(\"Nilai yang Anda masukkan tidak valid!\");\n",
    "}\n",
    "\n",
    "/*Penjelasan :\n",
    "Karena Jika nilai yang anda masukkan akan diproses apabila lebihdari sama dengan 0 atau kurangdari sama dengan 100*/"
   ]
  },
  {
   "cell_type": "markdown",
   "metadata": {},
   "source": [
    "#### Percobaan 2\n",
    "\n",
    "#### Waktu percobaan : 40 menit"
   ]
  },
  {
   "cell_type": "markdown",
   "metadata": {},
   "source": [
    "1. Perhatikan flowchart dibawah ini!\n",
    "\n",
    "![](images/02.png)\n",
    "\n",
    "> Flowchart tersebut digunakan untuk menghitung gaji bersih seseorang setelah dipotong pajak sesuai dengan kategorinya (pekerja dan pebisnis) dan besarnya penghasilan. "
   ]
  },
  {
   "cell_type": "markdown",
   "metadata": {},
   "source": [
    "2. Tambahkan library Scanner dan deklarasi Scanner\n",
    "\n",
    "3. Deklarasikan variabel kategori, penghasilan, gajiBersih, dan pajak\n",
    "\n",
    "    ![](images/05.png)"
   ]
  },
  {
   "cell_type": "code",
   "execution_count": 9,
   "metadata": {},
   "outputs": [
    {
     "name": "stdout",
     "output_type": "stream",
     "text": [
      "Masukkan kategori: pebisnis\n",
      "Masukkan besarnya penghasilan: 3000000\n"
     ]
    }
   ],
   "source": [
    "// Ketik kode di sini\n",
    "import java.util.Scanner;\n",
    "Scanner input = new Scanner(System.in);\n",
    "String kategori;\n",
    "int penghasilan, gajiBersih;\n",
    "double pajak = 0;\n",
    "\n",
    "System.out.print(\"Masukkan kategori: \");\n",
    "kategori = input.nextLine();\n",
    "System.out.print(\"Masukkan besarnya penghasilan: \");\n",
    "penghasilan = input.nextInt();"
   ]
  },
  {
   "cell_type": "markdown",
   "metadata": {},
   "source": [
    "4. Buatlah struktur pengecekan kondisi bersarang. Pengecekan pertama digunakan untuk mengecek kategori (pekerja atau pebisnis). Selanjutnya dilakukan pengecekan kedua untuk menentukan besarnya pajak berdasarkan penghasilan yang telah dimasukkan.Kemudian tambahkan kode program untuk menghitung gaji bersih yang diterima setelah dipotong pajak!\n",
    "\n",
    "    ![](images/06.png)"
   ]
  },
  {
   "cell_type": "code",
   "execution_count": 10,
   "metadata": {},
   "outputs": [
    {
     "name": "stdout",
     "output_type": "stream",
     "text": [
      "Gaji bersih yang anda terima: 2400000\n"
     ]
    }
   ],
   "source": [
    "// Ketik kode di sini\n",
    "if(kategori.equalsIgnoreCase (\"pekerja\")){\n",
    "    if (penghasilan <= 2000000){\n",
    "        pajak = 0.1;\n",
    "    } else if (penghasilan <= 3000000){\n",
    "        pajak = 0.15;\n",
    "    } else {\n",
    "        pajak = 0.2;\n",
    "    }\n",
    "    gajiBersih = (int) (penghasilan - (penghasilan * pajak));\n",
    "    System.out.println(\"Gaji bersih yang anda terima: \" + gajiBersih);\n",
    "    \n",
    "} else if (kategori.equalsIgnoreCase (\"pebisnis\")){\n",
    "    if (penghasilan <= 2500000){\n",
    "        pajak = 0.15;\n",
    "    } else if (penghasilan <= 3500000){\n",
    "        pajak = 0.2;\n",
    "    } else {\n",
    "        pajak = 0.25;\n",
    "    }\n",
    "    gajiBersih = (int) (penghasilan - (penghasilan * pajak));\n",
    "    System.out.println(\"Gaji bersih yang anda terima: \" + gajiBersih);\n",
    "} else {\n",
    "    System.out.println(\"Kategori yang anda masukkan salah!\");\n",
    "}"
   ]
  },
  {
   "cell_type": "markdown",
   "metadata": {},
   "source": [
    "5. Jalankan program di atas. Amati apa yang terjadi!"
   ]
  },
  {
   "cell_type": "markdown",
   "metadata": {},
   "source": [
    "> Penjelasan kode program percobaan 2\n",
    "Pada method equalsIgnoreCase(), tidak akan melihat atau membedakan huruf besar ataupun kecil, yang terpenting mempunyai nilai yang sama, maka akan tetap menghasilkan true."
   ]
  },
  {
   "cell_type": "markdown",
   "metadata": {},
   "source": [
    "##### Pertanyaan\n",
    "\n",
    "1. Jalankan program dengan memasukkan kategori = pekerja dan penghasilan = 2048485. Amati apa yang terjadi! Mengapa angka di belakang koma tidak ditampilkan?\n",
    "\n",
    "2. Jelaskan fungsi dari (int) pada sintaks:\n",
    "```\n",
    "gajiBersih = (int) (penghasilan - (penghasilan * pajak));\n",
    "```\n",
    "\n",
    "3.\tJalankan program dengan memasukkan kategori = pebisnis dan penghasilan = 2000000. Amati apa yang terjadi! Apa kegunaan dari equalsIgnoreCase?\n",
    "\n",
    "4.\tUbah equalsIgnoreCase menjadi equals, kemudian jalankan program dengan memasukkan kategori = pebisnis dan penghasilan = 2000000. Amati apa yang terjadi! Mengapa hasilnya demikian? Apa kegunaan dari equals?"
   ]
  },
  {
   "cell_type": "code",
   "execution_count": 11,
   "metadata": {},
   "outputs": [
    {
     "name": "stdout",
     "output_type": "stream",
     "text": [
      "Masukkan kategori: pekerja\n",
      "Masukkan besarnya penghasilan: 2048485\n",
      "Gaji bersih yang anda terima: 1741212\n"
     ]
    }
   ],
   "source": [
    "// Jawaban pertanyaan 1\n",
    "import java.util.Scanner;\n",
    "Scanner input = new Scanner(System.in);\n",
    "String kategori;\n",
    "int penghasilan, gajiBersih;\n",
    "double pajak = 0;\n",
    "\n",
    "System.out.print(\"Masukkan kategori: \");\n",
    "kategori = input.nextLine();\n",
    "System.out.print(\"Masukkan besarnya penghasilan: \");\n",
    "penghasilan = input.nextInt();\n",
    "\n",
    "if(kategori.equalsIgnoreCase (\"pekerja\")){\n",
    "    if (penghasilan <= 2000000){\n",
    "        pajak = 0.1;\n",
    "    } else if (penghasilan <= 3000000){\n",
    "        pajak = 0.15;\n",
    "    } else {\n",
    "        pajak = 0.2;\n",
    "    }\n",
    "    gajiBersih = (int) (penghasilan - (penghasilan * pajak));\n",
    "    System.out.println(\"Gaji bersih yang anda terima: \" + gajiBersih);\n",
    "    \n",
    "} else if (kategori.equalsIgnoreCase (\"pebisnis\")){\n",
    "    if (penghasilan <= 2500000){\n",
    "        pajak = 0.15;\n",
    "    } else if (penghasilan <= 3500000){\n",
    "        pajak = 0.2;\n",
    "    } else {\n",
    "        pajak = 0.25;\n",
    "    }\n",
    "    gajiBersih = (int) (penghasilan - (penghasilan * pajak));\n",
    "    System.out.println(\"Gaji bersih yang anda terima: \" + gajiBersih);\n",
    "} else {\n",
    "    System.out.println(\"Kategori yang anda masukkan salah!\");\n",
    "}\n",
    "\n",
    "\n",
    "/*Mengapa angka di belakang koma tidak ditampilkan?\n",
    "Karena tipe data yang digunakan untuk menghitung gaji bersih adalah integer, agar hasil tidak berubah menjadi desimal.*/"
   ]
  },
  {
   "cell_type": "code",
   "execution_count": null,
   "metadata": {},
   "outputs": [],
   "source": [
    "// Jawaban pertanyaan 2\n",
    "/*Karena tipedata integer tidak bisa langsung digabungkan dengan tipedata double, sehingga tipe data integer menggunakan \n",
    "tanda kurung.*/"
   ]
  },
  {
   "cell_type": "code",
   "execution_count": 12,
   "metadata": {},
   "outputs": [
    {
     "name": "stdout",
     "output_type": "stream",
     "text": [
      "Masukkan kategori: pebisnis\n",
      "Masukkan besarnya penghasilan: 2000000\n",
      "Gaji bersih yang anda terima: 1700000\n"
     ]
    }
   ],
   "source": [
    "// Jawaban pertanyaan 3\n",
    "import java.util.Scanner;\n",
    "Scanner input = new Scanner(System.in);\n",
    "String kategori;\n",
    "int penghasilan, gajiBersih;\n",
    "double pajak = 0;\n",
    "\n",
    "System.out.print(\"Masukkan kategori: \");\n",
    "kategori = input.nextLine();\n",
    "System.out.print(\"Masukkan besarnya penghasilan: \");\n",
    "penghasilan = input.nextInt();\n",
    "\n",
    "if(kategori.equalsIgnoreCase (\"pekerja\")){\n",
    "    if (penghasilan <= 2000000){\n",
    "        pajak = 0.1;\n",
    "    } else if (penghasilan <= 3000000){\n",
    "        pajak = 0.15;\n",
    "    } else {\n",
    "        pajak = 0.2;\n",
    "    }\n",
    "    gajiBersih = (int) (penghasilan - (penghasilan * pajak));\n",
    "    System.out.println(\"Gaji bersih yang anda terima: \" + gajiBersih);\n",
    "    \n",
    "} else if (kategori.equalsIgnoreCase (\"pebisnis\")){\n",
    "    if (penghasilan <= 2500000){\n",
    "        pajak = 0.15;\n",
    "    } else if (penghasilan <= 3500000){\n",
    "        pajak = 0.2;\n",
    "    } else {\n",
    "        pajak = 0.25;\n",
    "    }\n",
    "    gajiBersih = (int) (penghasilan - (penghasilan * pajak));\n",
    "    System.out.println(\"Gaji bersih yang anda terima: \" + gajiBersih);\n",
    "} else {\n",
    "    System.out.println(\"Kategori yang anda masukkan salah!\");\n",
    "}\n",
    "\n",
    " /*Apa kegunaan dari equalsIgnoreCase\n",
    " Kegunaan equalsIgnoreCase adalah tidak akan melihat atau membedakan huruf besar ataupun kecil, yang terpenting mempunyai \n",
    " nilai yang sama, maka akan tetap menghasilkan true.*/"
   ]
  },
  {
   "cell_type": "code",
   "execution_count": null,
   "metadata": {},
   "outputs": [],
   "source": [
    "// Jawaban pertanyaan 4\n",
    "/*Kegunaannya sama dengan equalsIgnoreCase yaitu membandingkan karakter dalam tipedata String.*/"
   ]
  },
  {
   "cell_type": "markdown",
   "metadata": {},
   "source": [
    "### Tugas\n",
    "\n",
    "#### Waktu pengerjaan Tugas: 140 menit\n",
    "\n",
    "1. Buatlah program kalkulator sederhana menggunakan bahasa pemrograman Java. User akan menginputkan dua buah bilangan riil dan satu buah operator aritmatika (+, -, *, atau /), kemudian program akan mengoperasikan dua bilangan tersebut dengan operator yang sesuai. Petunjuk: gunakan pernyataan switch-case.\n",
    "Contoh tampilan program:\n",
    "\n",
    "```\n",
    "Masukkan bilangan pertama: 2.5\n",
    "Masukkan operator (+, -, *, /): *\n",
    "Masukkan bilangan kedua: 4\n",
    "2.5 * 4.0 = 10.0\n",
    "\n",
    "```"
   ]
  },
  {
   "cell_type": "code",
   "execution_count": 13,
   "metadata": {},
   "outputs": [
    {
     "name": "stdout",
     "output_type": "stream",
     "text": [
      "Masukkan bilangan pertama: 3.00\n",
      "Masukkan operator: *\n",
      "Masukkan bilangan kedua: 3.50\n",
      " 3.0 * 3.5 = 10.5\n"
     ]
    }
   ],
   "source": [
    "//ketik kode program dan lampirkan hasilnya disini\n",
    "Scanner sc = new Scanner(System.in);\n",
    "char operator;\n",
    "double bil1,bil2,hasil;\n",
    "\n",
    "System.out.print(\"Masukkan bilangan pertama: \");\n",
    "bil1 = input.nextDouble();\n",
    "System.out.print(\"Masukkan operator: \");\n",
    "operator = input.next().charAt(0);\n",
    "System.out.print(\"Masukkan bilangan kedua: \");\n",
    "bil2 = input.nextDouble();\n",
    "\n",
    "switch (operator){\n",
    " case('+'):\n",
    "hasil=bil1+bil2;\n",
    "break;\n",
    " case('-'):\n",
    "hasil=bil1-bil2;\n",
    "break;\n",
    " case('*'):\n",
    "hasil=bil1*bil2;\n",
    "break;\n",
    " case('/'):\n",
    "hasil=bil1/bil2;\n",
    "break;\n",
    " case('%'):\n",
    "hasil=bil1%bil2;\n",
    "break;\n",
    " default:\n",
    "hasil = 0;\n",
    "break;\n",
    "}\n",
    "System.out.println(\" \"+ bil1 + \" \" + operator + \" \" + bil2 + \" = \" + hasil);"
   ]
  },
  {
   "cell_type": "markdown",
   "metadata": {},
   "source": [
    "2. Dengan menggunakan tiga nilai yang mewakili panjang tiga sisi sebuah segitiga, tentukan apakah segitiga tersebut sama sisi (ketiga sisinya bernilai sama), sama kaki (kedua sisinya bernilai sama), atau sembarang (tidak ada sisi yang bernilai sama)! "
   ]
  },
  {
   "cell_type": "code",
   "execution_count": 14,
   "metadata": {},
   "outputs": [
    {
     "name": "stdout",
     "output_type": "stream",
     "text": [
      "Masukkan sisi1 : 3\n",
      "Masukkan sisi2 : 4\n",
      "Masukkan sisi3 : 4\n",
      "Ini adalah Segitiga sama kaki\n"
     ]
    }
   ],
   "source": [
    "//ketik kode program dan lampirkan hasilnya disini\n",
    "Scanner input = new Scanner(System.in);\n",
    "int sisi1, sisi2, sisi3;\n",
    "\n",
    "System.out.print(\"Masukkan sisi1 : \");\n",
    "sisi1 = input.nextInt();\n",
    "System.out.print(\"Masukkan sisi2 : \");\n",
    "sisi2 = input.nextInt();\n",
    "System.out.print(\"Masukkan sisi3 : \");\n",
    "sisi3 = input.nextInt();\n",
    "\n",
    "if(sisi1 == sisi2 && sisi2 == sisi3){\n",
    "    System.out.println(\"Ini adalah Segitiga sama sisi\");\n",
    "  }else if(sisi1 == sisi2 && sisi2 != sisi3 || sisi1 == sisi3 && sisi1 != sisi2 || sisi2 == sisi3 && sisi2 != sisi1){\n",
    "    System.out.println(\"Ini adalah Segitiga sama kaki\");\n",
    "}else{\n",
    "    System.out.println(\"Ini adalah Segitiga sembarang\");\n",
    "}"
   ]
  },
  {
   "cell_type": "markdown",
   "metadata": {},
   "source": [
    "3. Warung Padang Gembira meminta Anda membuat sebuah program untuk menerima pesanan dari internet. Program yang Anda buat meminta user untuk memasukkan nama makanan dan harga. Setelah itu, user ditawarkan untuk menggunakan pengiriman ekspres. Jika pengguna menolak, maka jenis pengiriman yang digunakan adalah pengiriman reguler. Biaya pengiriman reguler untuk harga makanan kurang dari Rp 100.000 adalah Rp 20.000, sedangkan untuk harga makanan sama dengan atau lebih dari Rp 100.000 biaya pengirimannya adalah Rp 30.000. Untuk jenis pengiriman ekspres, tambahkan biaya tambahan sebesar Rp 25.000 dari standar biaya pengiriman reguler. Tampilkan struk yang berisi nama makanan yang dibeli + harga, biaya pengiriman, dan total yang harus dibayar!\n",
    "Contoh hasil output program:\n",
    "\n",
    "```\n",
    "Masukkan nama makanan: Tuna salad\n",
    "Masukkan harga makanan: Rp 115000\n",
    "Apakah Anda ingin pengiriman ekspres (0 = tidak, 1 = ya)? 0\n",
    "\n",
    "STRUK PEMBELIAN\n",
    "Tuna salad        Rp 115000\n",
    "Biaya pengiriman  Rp 30000\n",
    "TOTAL             Rp 145000\n",
    "\n",
    "```\n",
    "\n",
    "```\n",
    "Masukkan nama makanan: Beef bulgogi\n",
    "Masukkan harga makanan: Rp 78000\n",
    "Apakah Anda ingin pengiriman ekspres (0 = tidak, 1 = ya)? 1\n",
    "\n",
    "STRUK PEMBELIAN\n",
    "Beef bulgogi      Rp 115000\n",
    "Biaya pengiriman  Rp 45000\n",
    "TOTAL             Rp 123000\n",
    "\n",
    "```\n",
    "\n"
   ]
  },
  {
   "cell_type": "code",
   "execution_count": 15,
   "metadata": {},
   "outputs": [
    {
     "name": "stdout",
     "output_type": "stream",
     "text": [
      "Masukkan nama makanan  : Beef_bulgogi\n",
      "Masukkan harga makanan : Rp 78000\n",
      "Apakah Anda ingin pengiriman ekspres (0 = tidak, 1 = ya)? 1\n",
      " \n",
      "STRUK PEMBELIAN\n",
      "Beef_bulgogi        Rp 78000\n",
      "Biaya Pengiriman    Rp 45000\n",
      "TOTAL               Rp 123000\n"
     ]
    }
   ],
   "source": [
    "//ketik kode program dan lampirkan hasilnya disini\n",
    "Scanner input = new Scanner(System.in);\n",
    "String makanan; \n",
    "int pengiriman, biayaPengiriman, total, hMakanan;\n",
    "\n",
    "System.out.print(\"Masukkan nama makanan  : \");\n",
    "makanan = input.next();\n",
    "System.out.print(\"Masukkan harga makanan : Rp \");\n",
    "hMakanan = input.nextInt();\n",
    "System.out.print(\"Apakah Anda ingin pengiriman ekspres (0 = tidak, 1 = ya)? \");\n",
    "pengiriman = input.nextInt();\n",
    "\n",
    "if(pengiriman == 0){\n",
    "    if(hMakanan < 100000){\n",
    "        biayaPengiriman = 20000;\n",
    "        total = biayaPengiriman + hMakanan;\n",
    "    }else if(hMakanan >= 100000){\n",
    "        biayaPengiriman = 30000;\n",
    "        total = biayaPengiriman + hMakanan;\n",
    "    }else{\n",
    "        System.out.println(\"Coba ulangi lagi\");\n",
    "    }\n",
    "}else if(pengiriman == 1){\n",
    "    if(hMakanan < 100000){\n",
    "        biayaPengiriman = 20000 + 25000;\n",
    "        total = biayaPengiriman + hMakanan;\n",
    "    }else if(hMakanan >= 100000){\n",
    "        biayaPengiriman = 30000 + 25000;\n",
    "        total = biayaPengiriman + hMakanan;\n",
    "    }else{\n",
    "        System.out.println(\"coba ulangi lagi\");\n",
    "    }\n",
    "}else{\n",
    "    System.out.println(\"pilih pengiriman lagi dengan benar\");\n",
    "}\n",
    "System.out.println(\" \");\n",
    "System.out.println(\"STRUK PEMBELIAN\");\n",
    "System.out.println(\"\"+makanan+\"        Rp \" + hMakanan);\n",
    "System.out.println(\"Biaya Pengiriman    Rp \" + biayaPengiriman);\n",
    "System.out.println(\"TOTAL               Rp \" + total);"
   ]
  },
  {
   "cell_type": "markdown",
   "metadata": {},
   "source": [
    "4. Perhatikan flowchart berikut ini!\n",
    "\n",
    "![](images/01.png)\n",
    "\n",
    "> Buatlah program sesuai dengan flowchart diatas!"
   ]
  },
  {
   "cell_type": "code",
   "execution_count": 4,
   "metadata": {},
   "outputs": [
    {
     "name": "stdout",
     "output_type": "stream",
     "text": [
      "Masukkan umur Anda : 17\n",
      "Masukkan status sekolah (pilih (s) jika masih sekolah dan (f) jika tidak): s\n",
      "Bukan termasuk Penduduk Miskin\n"
     ]
    }
   ],
   "source": [
    "//ketik kode program dan lampirkan hasilnya disini\n",
    "Scanner input = new Scanner(System.in);\n",
    "int umur, pendapatan, tanggungan, biayaHidup;\n",
    "char statusBekerja, statusSekolah;\n",
    "\n",
    "System.out.print(\"Masukkan umur Anda : \");\n",
    "umur = input.nextInt();\n",
    "\n",
    "if(umur >= 18){\n",
    "    System.out.print(\"Masukkan Status Bekerja (pilih (y) jika sudah bekerja dan (t) jika belum): \");\n",
    "    statusBekerja = input.next().charAt(0);\n",
    "    if(statusBekerja == 'y'){\n",
    "        System.out.print(\"Masukkan pendapatan  : \");\n",
    "        pendapatan = input.nextInt();\n",
    "        System.out.print(\"Masaukkan tanggungan : \");\n",
    "        tanggungan = input.nextInt();\n",
    "        \n",
    "        biayaHidup = pendapatan / tanggungan;\n",
    "        if(biayaHidup < 300000){\n",
    "            System.out.println(\"Termasuk Penduduk Miskin\");\n",
    "        }else{\n",
    "            System.out.println(\"Bukan termasuk Penduduk Miskin\");\n",
    "        }\n",
    "    }else if(statusBekerja == 't'){\n",
    "        System.out.println(\"Termasuk penduduk miskin\");\n",
    "    }else{\n",
    "        System.out.println(\"Pilih lagi dengan benar!!!\");\n",
    "    }\n",
    "}else{\n",
    "    System.out.print(\"Masukkan status sekolah (pilih (s) jika masih sekolah dan (f) jika tidak): \");\n",
    "   statusSekolah = input.next().charAt(0);\n",
    "    if(statusSekolah == 's'){\n",
    "        System.out.println(\"Bukan termasuk Penduduk Miskin\");\n",
    "    }else if(statusSekolah == 'f'){\n",
    "        System.out.println(\"Termasuk Penduduk Miskin\");\n",
    "    }else{\n",
    "        System.out.println(\"pilih lagi dengan benar!!\");\n",
    "    }\n",
    "}"
   ]
  }
 ],
 "metadata": {
  "kernelspec": {
   "display_name": "Java",
   "language": "java",
   "name": "java"
  },
  "language_info": {
   "codemirror_mode": "java",
   "file_extension": ".jshell",
   "mimetype": "text/x-java-source",
   "name": "Java",
   "pygments_lexer": "java",
   "version": "18-ea+17-1015"
  },
  "nteract": {
   "version": "nteract-on-jupyter@2.1.3"
  }
 },
 "nbformat": 4,
 "nbformat_minor": 1
}
