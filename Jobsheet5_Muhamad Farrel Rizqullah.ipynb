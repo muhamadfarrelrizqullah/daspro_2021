{
 "cells": [
  {
   "cell_type": "markdown",
   "metadata": {
    "collapsed": true
   },
   "source": [
    "## JOBSHEET 5\n",
    "\n",
    "## PEMILIHAN 1\n",
    "\n",
    "### Tujuan\n",
    "\n",
    "Mahasiswa mampu menyelesaikan permasalahan/studi kasus menggunakan sintaks pemilihan 1 dan mengimplemantasikannya dalam bahasa pemrogaman java.\n",
    "\n",
    "### Alat dan Bahan\n",
    "+ PC/laptop\n",
    "+ Browser(chrome, firefox, safari)\n",
    "+ Koneksi internet\n",
    "\n",
    "### Praktikum\n",
    "\n",
    "#### Percobaan 1 : Penggunaan if\n",
    "\n",
    "#### Waktu percobaan : 40 menit\n",
    "\n",
    "1. Perhatikan flowchart dibawah ini!\n",
    "\n",
    "    <p align=\"left\">\n",
    "    <img width=\"351\" height=\"460\" src=\"images/01.png\">\n",
    "    </p>\n",
    "    \n",
    "\n",
    "> Flowchart diatas digunakan untuk menentukan bilangan ganjil/genap, selanjutnya kita akan membuat programnya berdasarkan\n",
    "> flowchart di atas!\n",
    "\n",
    "2. Tambahkan library Scanner, deklarasi Scanner, dan buat variabel bil untuk menampung data yang diinput melalui keyboard\n",
    "\n",
    "    ![](images/03.png)"
   ]
  },
  {
   "cell_type": "code",
   "execution_count": 1,
   "metadata": {
    "pycharm": {
     "name": "#%%\n"
    }
   },
   "outputs": [
    {
     "name": "stdout",
     "output_type": "stream",
     "text": [
      "Masukkan sebuah bilangan: 10\n"
     ]
    }
   ],
   "source": [
    "// Ketik kode program di atas di bawah sini\n",
    "import java.util.Scanner;\n",
    "Scanner input = new Scanner(System.in);\n",
    "int bil;\n",
    "System.out.print(\"Masukkan sebuah bilangan: \");\n",
    "bil = input.nextInt();"
   ]
  },
  {
   "cell_type": "markdown",
   "metadata": {},
   "source": [
    "3. Buatlah struktur kondisi untuk mengecek apakah bilangan tersebut merupakan bilangan genap atau ganjil\n",
    "\n",
    "    ![](images/04.png)"
   ]
  },
  {
   "cell_type": "code",
   "execution_count": 2,
   "metadata": {},
   "outputs": [
    {
     "name": "stdout",
     "output_type": "stream",
     "text": [
      "Bilangan Genap\n"
     ]
    }
   ],
   "source": [
    "// Ketik kode program di atas di bawah sini\n",
    "if(bil%2 == 0){\n",
    "    System.out.println(\"Bilangan Genap\");\n",
    "}else{\n",
    "    System.out.println(\"Bilangan Ganjil\");\n",
    "}"
   ]
  },
  {
   "cell_type": "markdown",
   "metadata": {},
   "source": [
    "> Tuliskan penjelasan kode-kode di atas\n",
    "Pada percabangan if jika nilai yang diketahui hasil bagi 2 samadengan 0 maka perintah yang akan dijalankan adalah Bilangan Genap, sedangkan jika nilai yang diketahui hasil bagi 2 tidak samadengan 0 maka perintah yang akan dijalankan adalah Bilangan Ganjil.\n"
   ]
  },
  {
   "cell_type": "markdown",
   "metadata": {},
   "source": [
    "##### Pertanyaan\n",
    "1. Modifikasi program diatas dibagian struktur pemilihannya sehingga menjadi sebagai berikut:\n",
    "\n",
    "    ![](images/05.png)"
   ]
  },
  {
   "cell_type": "code",
   "execution_count": 3,
   "metadata": {},
   "outputs": [
    {
     "name": "stdout",
     "output_type": "stream",
     "text": [
      "Bilangan Genap\n"
     ]
    }
   ],
   "source": [
    "// Ketik kode program di atas di bawah sini\n",
    "String output = (bil % 2 == 0) ? \"Bilangan Genap\":\"Bilangan Ganjil\";\n",
    "System.out.println(output);"
   ]
  },
  {
   "cell_type": "markdown",
   "metadata": {},
   "source": [
    "2. Jalankan dan amatilah hasilnya!\n",
    "3. Jelaskan mengapa output program yang dimodifikasi sama dengan output program sebelum dimodifikasi!"
   ]
  },
  {
   "cell_type": "markdown",
   "metadata": {},
   "source": [
    "> Jawab pertanyaan di bawah ini\n",
    "2. Hasilnya sama saja hanya beda di operator penulisan saja.\n",
    "3. Karena Operator ternary memiliki konsep yang sama seperti percabangan IF/ELSE."
   ]
  },
  {
   "cell_type": "markdown",
   "metadata": {},
   "source": [
    "#### Percobaan 2 : Penggunaan if else\n",
    "\n",
    "#### Waktu percobaan : 40 menit\n",
    "\n",
    "+ Buatlah sebuah variabel nilai untuk menyimpan inputan dari keyboard\n",
    "\n",
    "    ![](images/06.png)"
   ]
  },
  {
   "cell_type": "code",
   "execution_count": 4,
   "metadata": {},
   "outputs": [
    {
     "name": "stdout",
     "output_type": "stream",
     "text": [
      "Masukkan sebuah bilangan: 20\n"
     ]
    }
   ],
   "source": [
    "// Ketik kode program di atas di bawah sini\n",
    "int nilai;\n",
    "System.out.print(\"Masukkan sebuah bilangan: \");\n",
    "nilai = input.nextInt();"
   ]
  },
  {
   "cell_type": "markdown",
   "metadata": {},
   "source": [
    "+ Tambahkan sebuah kondisi untuk mengecek input pada variabel nilai\n",
    "\n",
    "    ![](images/07.png)"
   ]
  },
  {
   "cell_type": "code",
   "execution_count": 5,
   "metadata": {},
   "outputs": [
    {
     "name": "stdout",
     "output_type": "stream",
     "text": [
      "Hasil akhir nilai adalah 10\n"
     ]
    }
   ],
   "source": [
    "// Ketik kode program di atas di bawah sini\n",
    "if (nilai >= 100){\n",
    "    nilai += 10;\n",
    "}else{\n",
    "    nilai -= 10;\n",
    "}\n",
    "System.out.println(\"Hasil akhir nilai adalah \"+nilai);"
   ]
  },
  {
   "cell_type": "markdown",
   "metadata": {},
   "source": [
    "+ Jalankan program. Amati apa yang terjadi!"
   ]
  },
  {
   "cell_type": "markdown",
   "metadata": {},
   "source": [
    "> Tuliskan penjelasan kode di atas\n",
    "Pada percabangan menggunakan if jika nilai yang diketahui lebih dari samadengan 100 maka nilai akan di + 10. sedangkan penggunaan else disini jika nilai yang diketahui kurang dari 100 maka nilai akan - 10.\n"
   ]
  },
  {
   "cell_type": "markdown",
   "metadata": {},
   "source": [
    "##### Pertanyaan\n",
    "1. Jelaskan fungsi kode program berikut:\n",
    "    \n",
    "    ```\n",
    "    nilai+=10;\n",
    "    nilai-=10;\n",
    "    ```\n",
    "\n",
    "2. Modifikasilah program diatas dimana inputannya yang awalnya hanya satu kemudian diganti 2 inputan (misal : nilai1 dan nilai2), lakukan perhitungan rata-rata kedua nilai tersebut jika nilainya lebih dari sama dengan 100 maka dikurangi 5, sedangkan jika nilai rata-rata tersebut kurang dari 100 maka akan langsung dicetak!"
   ]
  },
  {
   "cell_type": "markdown",
   "metadata": {},
   "source": [
    "> Tuliskan jawaban di sini\n",
    "1. Fungsi nilai+=10 adalah menambahkan nilai awal +10, sedangkan Fungsi nilai-=10 adalah mengurangi nilai awal -10\n"
   ]
  },
  {
   "cell_type": "code",
   "execution_count": 6,
   "metadata": {},
   "outputs": [
    {
     "name": "stdout",
     "output_type": "stream",
     "text": [
      "Masukkan bilangan pertama: 20\n",
      "Masukkan bilangan kedua: 10\n",
      "Hasil akhir nilai adalah 15.0\n"
     ]
    }
   ],
   "source": [
    "int nilai1, nilai2;\n",
    "float rata2;\n",
    "\n",
    "System.out.print(\"Masukkan bilangan pertama: \");\n",
    "nilai1 = input.nextInt();\n",
    "System.out.print(\"Masukkan bilangan kedua: \");\n",
    "nilai2 = input.nextInt();\n",
    "\n",
    "rata2 = (nilai1 + nilai2) / 2;\n",
    "\n",
    "\n",
    "if(rata2 >= 100){\n",
    "    rata2 -= 5;\n",
    "}else{\n",
    "    \n",
    "}\n",
    "System.out.println(\"Hasil akhir nilai adalah \"+rata2);"
   ]
  },
  {
   "cell_type": "markdown",
   "metadata": {},
   "source": [
    "#### Percobaan 3 : Penggunaan if else-if else\n",
    "\n",
    "#### Waktu percobaan : 40 menit\n",
    "\n",
    "+ Tambahakan library `Scanner`\n",
    "+ Buatlah deklarasi `Scanner`\n",
    "+ Buat variabel umur bertipe `int`\n",
    "\n",
    "    ![](images/08.png)"
   ]
  },
  {
   "cell_type": "code",
   "execution_count": 7,
   "metadata": {},
   "outputs": [
    {
     "name": "stdout",
     "output_type": "stream",
     "text": [
      "Masukkan umur anda: 18\n"
     ]
    }
   ],
   "source": [
    "// Ketik kode program di atas di bawah sini\n",
    "int umur;\n",
    "System.out.print(\"Masukkan umur anda: \");\n",
    "umur = input.nextInt();"
   ]
  },
  {
   "cell_type": "markdown",
   "metadata": {},
   "source": [
    "+ Kode untuk melakukan pengecekan variabel `umur`\n",
    "\n",
    "    ![](images/09.png)"
   ]
  },
  {
   "cell_type": "code",
   "execution_count": 8,
   "metadata": {},
   "outputs": [
    {
     "name": "stdout",
     "output_type": "stream",
     "text": [
      "Dewasa\n"
     ]
    }
   ],
   "source": [
    "// Ketik kode program di atas di bawah sini\n",
    "if(umur > 60)\n",
    "    System.out.println(\"Lansia\");\n",
    "else if(umur > 45)\n",
    "    System.out.println(\"Tua\");\n",
    "else if(umur > 17)\n",
    "    System.out.println(\"Dewasa\");\n",
    "else if(umur > 5)\n",
    "    System.out.println(\"Anak-anak\");\n",
    "else\n",
    "    System.out.println(\"Balita\");"
   ]
  },
  {
   "cell_type": "markdown",
   "metadata": {},
   "source": [
    "+ Jalankan program dan amati apa yang terjadi!"
   ]
  },
  {
   "cell_type": "markdown",
   "metadata": {},
   "source": [
    "##### Percobaan 4 : Penggunaan switch-case\n",
    "\n",
    "#### Waktu percobaan : 40 menit\n",
    "\n",
    "1. Deklarasikan Scanner\n",
    "1. Buatlah variabel-variabel berikut\n",
    "\n",
    "    ![](images/10.png)"
   ]
  },
  {
   "cell_type": "code",
   "execution_count": 11,
   "metadata": {},
   "outputs": [],
   "source": [
    "// Ketik kode program di atas di bawah sini\n",
    "Scanner sc = new Scanner(System.in);\n",
    "double angka1, angka2, hasil;\n",
    "char operator;"
   ]
  },
  {
   "cell_type": "markdown",
   "metadata": {},
   "source": [
    "3. Kode program untuk meminta inputan dari keyboard\n",
    "\n",
    "    ![](images/11.png)"
   ]
  },
  {
   "cell_type": "code",
   "execution_count": 12,
   "metadata": {},
   "outputs": [
    {
     "name": "stdout",
     "output_type": "stream",
     "text": [
      "Masukkan angka pertama: 10\n",
      "Masukkan angka kedua: 20\n",
      "Masukkan operator (+-*/): -\n"
     ]
    }
   ],
   "source": [
    "// Ketik kode program di atas di bawah sini\n",
    "System.out.print(\"Masukkan angka pertama: \");\n",
    "angka1 = sc.nextDouble();\n",
    "System.out.print(\"Masukkan angka kedua: \");\n",
    "angka2 = sc.nextDouble();\n",
    "System.out.print(\"Masukkan operator (+-*/): \");\n",
    "operator = sc.next().charAt(0);"
   ]
  },
  {
   "cell_type": "markdown",
   "metadata": {},
   "source": [
    "> Tuliskan penjelasan kode-kode di atas\n",
    "Jika menggunkan tipe data double maka perintah untuk menginputkan variabel tersebut harus menggunakan nextDouble. jika menggunakan tipe data char maka perintah untuk menginputkan variabel harus menggunakan next().charAt(0)."
   ]
  },
  {
   "cell_type": "markdown",
   "metadata": {},
   "source": [
    "4. Kode di bawah ini untuk melakukan pengecekan operator yang digunakan sebelum dilakukan operasi aritmatika\n",
    "\n",
    "    ![](images/12.png)"
   ]
  },
  {
   "cell_type": "code",
   "execution_count": 13,
   "metadata": {},
   "outputs": [
    {
     "name": "stdout",
     "output_type": "stream",
     "text": [
      "Masukkan angka pertama: 20\n",
      "Masukkan angka kedua: 10\n",
      "Masukkan operator (+ - * /): +\n",
      "20.0 + 10.0 = 30.0"
     ]
    }
   ],
   "source": [
    "// Ketik kode program di atas di bawah sini\n",
    "Scanner sc = new Scanner(System.in);\n",
    "double angka1, angka2, hasil;\n",
    "char operator;\n",
    "System.out.print(\"Masukkan angka pertama: \");\n",
    "angka1 = sc.nextDouble();\n",
    "System.out.print(\"Masukkan angka kedua: \");\n",
    "angka2 = sc.nextDouble();\n",
    "System.out.print(\"Masukkan operator (+ - * /): \");\n",
    "operator = sc.next().charAt(0);\n",
    "\n",
    "switch(operator){\n",
    "    case '+':\n",
    "        hasil = angka1 + angka2;\n",
    "        System.out.print(angka1 + \" + \" + angka2 + \" = \" + hasil);\n",
    "        break;\n",
    "    case '-':\n",
    "        hasil = angka1 - angka2;\n",
    "        System.out.print(angka1 + \" - \" + angka2 + \" = \" + hasil);\n",
    "        break;\n",
    "    case '*':\n",
    "        hasil = angka1 * angka2;\n",
    "        System.out.print(angka1 + \" * \" + angka2 + \" = \" + hasil);\n",
    "        break;\n",
    "    case '/':\n",
    "        hasil = angka1 / angka2;\n",
    "        System.out.print(angka1 + \" / \" + angka2 + \" = \" + hasil);\n",
    "        break;\n",
    "    default:\n",
    "        System.out.println(\"Operator yang anda masukkan salah\");\n",
    "}"
   ]
  },
  {
   "cell_type": "markdown",
   "metadata": {},
   "source": [
    "5. Jalankan program. Amati apa yang terjadi!"
   ]
  },
  {
   "cell_type": "markdown",
   "metadata": {},
   "source": [
    "> Tuliskan penjelasan kode di atas\n",
    "Menggunakan pemilihan switch case yang dimana sintaks menjalankan salah satu dari beberapa case sesuai dengan nilai kondisi yang ada di dalam switch. seperti contoh diatas menggunakan case (+) sehingga didapatkan hasil dari angka1 + angka2.\n"
   ]
  },
  {
   "cell_type": "markdown",
   "metadata": {},
   "source": [
    "##### Pertanyaan\n",
    "1. Jelaskan fungsi dari break dan default pada percobaan 4 diatas!\n",
    "2. Jelaskan fungsi perintah kode program dibawah ini pada percobaan 4!\n",
    "\n",
    "    ```\n",
    "    operator = sc.next().chartAt(0);\n",
    "    ```"
   ]
  },
  {
   "cell_type": "markdown",
   "metadata": {},
   "source": [
    "> Tuliskan jawaban di atas\n",
    "1. Fungsi break adalah untuk melakukan stop jika perintah yang diberikan sudah di rasa cukup untuk case tersebut dengan kata lain untuk mengakhiri sebuah eksekusi dalam statement. Dengan menggunakan kata kunci Break, pernyataan didalam statement akan langsung berhenti, jadi kita harus membuat sebuah kondisi. kapan program akan berhenti.\n",
    "2. Fungsinya untuk input operator berdasarkan tipe data char.\n"
   ]
  },
  {
   "cell_type": "markdown",
   "metadata": {},
   "source": [
    "### Tugas\n",
    "\n",
    "#### Waktu pengerjaan Tugas: 140 menit\n",
    "\n",
    "1. Buatlah program untuk menginputkan dua buah bilangan bulat, kemudian mencetak salah satu bilangan yang nilainya terbesar.\n"
   ]
  },
  {
   "cell_type": "code",
   "execution_count": 14,
   "metadata": {},
   "outputs": [
    {
     "name": "stdout",
     "output_type": "stream",
     "text": [
      "Masukkan bilangan pertama: 20\n",
      "Masukkan bilangan kedua: 10\n",
      " Lebih Besar 20\n"
     ]
    }
   ],
   "source": [
    "//ketik kode program dan lampirkan hasilnya di sini\n",
    "import java.util.Scanner;\n",
    "Scanner input = new Scanner(System.in);\n",
    "int bil1, bil2;\n",
    "System.out.print(\"Masukkan bilangan pertama: \");\n",
    "bil1 = input.nextInt();\n",
    "System.out.print(\"Masukkan bilangan kedua: \");\n",
    "bil2 = input.nextInt();\n",
    "\n",
    "String besar;\n",
    "if (bil1 > bil2) {\n",
    "    besar=\"\" + bil1;\n",
    "}\n",
    "else{\n",
    "    besar=\"\" + bil2;\n",
    "}\n",
    "System.out.println(\" Lebih Besar \" + besar);"
   ]
  },
  {
   "cell_type": "markdown",
   "metadata": {},
   "source": [
    "2. Perhatikan flowchart berikut ini:\n",
    "\n",
    "![](images/02.png)\n",
    "\n",
    "> Buatlah program sesuai dengan flowchart diatas!"
   ]
  },
  {
   "cell_type": "code",
   "execution_count": 15,
   "metadata": {},
   "outputs": [
    {
     "name": "stdout",
     "output_type": "stream",
     "text": [
      "Masukkan umur : 18\n",
      "Boleh berkendara\n"
     ]
    }
   ],
   "source": [
    "//ketik kode program dan lampirkan hasilnya di sini\n",
    "import java.util.Scanner;\n",
    "Scanner input = new Scanner(System.in);\n",
    "int umur;\n",
    "System.out.print(\"Masukkan umur : \");\n",
    "umur = input.nextInt();\n",
    "\n",
    "if(umur >= 17) {\n",
    "    System.out.println(\"Boleh berkendara\");\n",
    "}\n",
    "else{\n",
    "    System.out.println(\"Tidak boleh berkendara\");\n",
    "}"
   ]
  },
  {
   "cell_type": "markdown",
   "metadata": {},
   "source": [
    "3. Pada akhir semester seorang dosen menghitung nilai akhir dari mahasiswa yang terdiri dari nilai uas, uts, kuis, dan tugas. Nilai akhir didapatkan dari 40% nilai uas, 30% nilai uts, 10% nilai kuis, dan 20% nilai tugas. Jika nilai akhir dari mahasiswa dibawah 65 maka mahasiswa tersebut akan mendapatkan remidi. Buatlah program untuk membantu mengetahui mahasiswa yang mendapatkan remidi berdasarkan nilai akhir yang didapatkannya!"
   ]
  },
  {
   "cell_type": "code",
   "execution_count": 16,
   "metadata": {},
   "outputs": [
    {
     "name": "stdout",
     "output_type": "stream",
     "text": [
      "Masukkan nilai uas : 90\n",
      "Masukkan nilai uts : 85\n",
      "Masukkan nilai kuis : 85\n",
      "Masukkan nilai tugas : 80\n",
      "Nilai akhir : 86.0\n",
      "Tidak Remidi\n"
     ]
    }
   ],
   "source": [
    "//ketik kode program dan lampirkan hasilnya di sini\n",
    "import java.util.Scanner;\n",
    "Scanner input = new Scanner(System.in);\n",
    "double nilaiUas, nilaiUts, nilaiKuis, nilaiTugas;\n",
    "double nilaiAkhir;\n",
    "System.out.print(\"Masukkan nilai uas : \");\n",
    "nilaiUas = input.nextDouble();\n",
    "System.out.print(\"Masukkan nilai uts : \");\n",
    "nilaiUts = input.nextDouble();\n",
    "System.out.print(\"Masukkan nilai kuis : \");\n",
    "nilaiKuis = input.nextDouble();\n",
    "System.out.print(\"Masukkan nilai tugas : \");\n",
    "nilaiTugas = input.nextDouble();\n",
    "\n",
    "nilaiAkhir = nilaiUas * 0.4 + nilaiUts * 0.3 + nilaiKuis * 0.1 + nilaiTugas * 0.2;\n",
    "System.out.println(\"Nilai akhir : \" +nilaiAkhir);\n",
    "\n",
    "\n",
    "if(nilaiAkhir < 65) {\n",
    "    System.out.println(\"Remidi\");\n",
    "}\n",
    "else{\n",
    "    System.out.println(\"Tidak Remidi\");\n",
    "}"
   ]
  },
  {
   "cell_type": "markdown",
   "metadata": {},
   "source": [
    "4. Sebuah toko memberikan diskon kepada pelanggannya dengan ketentuan sebagai berikut:\n",
    "\n",
    "| Total Belanja     | Potongan |\n",
    "|-------------------|----------|\n",
    "| >Rp. 200.000,00   | 2%       |\n",
    "| >Rp. 500.000,00   | 5%       |\n",
    "| >Rp. 1.000.000,00 | 10%      |\n",
    "\n",
    "> Total belanja diperoleh dari pembelian tiga barang yaitu barang A, barang B, dan barang C. Ketika menginputkan harga barang juga menginputkan jumlah barang yang dibeli.\n",
    "\n",
    "Contoh outputnya\n",
    "```\n",
    "Masukkan harga barang A   :100000\n",
    "Masukkan jumlah barang A  :10\n",
    "Masukkan harga barang B   :250000\n",
    "Masukkan jumlah barang B  :5\n",
    "Masukkan harga barang C   :150000\n",
    "Masukkan jumlah barang C  :1\n",
    "---------------------------------------------\n",
    "                Struk total\n",
    "---------------------------------------------\n",
    "Nama Barang \t| \tHarga \t| \tJumlah \t| \tTotal\n",
    "Barang A            100000         10        1000000   \n",
    "Barang B            250000         5         1250000   \n",
    "Barang C            150000         1         150000    \n",
    "Total       :2400000\n",
    "Diskon      :240000.0\n",
    "Total Bayar :2160000.0\n",
    "```"
   ]
  },
  {
   "cell_type": "code",
   "execution_count": 17,
   "metadata": {},
   "outputs": [
    {
     "name": "stdout",
     "output_type": "stream",
     "text": [
      "Masukkan Jumlah barang A\t:\t25\n",
      "Masukkan Jumlah barang B\t:\t24\n",
      "Masukkan Jumlah barang C\t:\t26\n"
     ]
    }
   ],
   "source": [
    "//ketik kode program dan lampirkan hasilnya di sini\n",
    "//Deklasasi dan input\n",
    "int barangA, barangB, barangC, totalB , diskons;\n",
    "System.out.print(\"Masukkan Jumlah barang A\\t:\\t\");\n",
    "barangA = sc.nextInt();\n",
    "System.out.print(\"Masukkan Jumlah barang B\\t:\\t\");\n",
    "barangB = sc.nextInt();\n",
    "System.out.print(\"Masukkan Jumlah barang C\\t:\\t\");\n",
    "barangC = sc.nextInt()"
   ]
  },
  {
   "cell_type": "code",
   "execution_count": 29,
   "metadata": {},
   "outputs": [
    {
     "name": "stdout",
     "output_type": "stream",
     "text": [
      "=======================================================================================\n",
      "\t Nama Barang \t|\t Harga \t\t|\t jumlah \t|\t total \t\n",
      "\t Barang A  \t|\t Rp 100000 \t|\t25\n",
      "\t Barang B  \t|\t Rp 250000 \t|\t24\n",
      "\t Barang C  \t|\t Rp 150000 \t|\t26\n",
      "=======================================================================================\n",
      "total =\t12400000\n",
      "diskon =\t1240000\n",
      "total harga =\t11160000\n"
     ]
    }
   ],
   "source": [
    "// mencari total harga\n",
    "totalB=barangA*100000 + barangB*250000 + barangC*150000;\n",
    "// border\n",
    "System.out.println(\"=======================================================================================\");\n",
    "System.out.println(\"\\t Nama Barang \\t|\\t Harga \\t\\t|\\t jumlah \\t|\\t total \\t\");\n",
    "System.out.println(\"\\t Barang A  \\t|\\t Rp 100000 \\t|\\t\" + barangA  );\n",
    "System.out.println(\"\\t Barang B  \\t|\\t Rp 250000 \\t|\\t\" + barangB );\n",
    "System.out.println(\"\\t Barang C  \\t|\\t Rp 150000 \\t|\\t\" + barangC );\n",
    "System.out.println(\"=======================================================================================\");\n",
    "// mencari diskon\n",
    "if (totalB > 1000000)\n",
    "diskons= totalB*10/100;\n",
    "else if (totalB > 500000)\n",
    "diskons= totalB*5/100;\n",
    "else if (totalB > 200000)\n",
    "diskons= totalB*2/100;\n",
    "else\n",
    "diskons= 0;\n",
    "// borded\n",
    "System.out.println(\"total =\\t\"+ totalB);\n",
    "System.out.println(\"diskon =\\t\"+ diskons);\n",
    "totalB = totalB - diskons;\n",
    "System.out.println(\"total harga =\\t\"+ totalB);"
   ]
  }
 ],
 "metadata": {
  "kernelspec": {
   "display_name": "Java",
   "language": "java",
   "name": "java"
  },
  "language_info": {
   "codemirror_mode": "java",
   "file_extension": ".jshell",
   "mimetype": "text/x-java-source",
   "name": "Java",
   "pygments_lexer": "java",
   "version": "18-ea+16-926"
  },
  "nteract": {
   "version": "nteract-on-jupyter@2.1.3"
  }
 },
 "nbformat": 4,
 "nbformat_minor": 1
}
